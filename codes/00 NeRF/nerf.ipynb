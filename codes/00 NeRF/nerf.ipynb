{
 "cells": [
  {
   "attachments": {},
   "cell_type": "markdown",
   "metadata": {},
   "source": [
    "import libraries"
   ]
  },
  {
   "cell_type": "code",
   "execution_count": 4,
   "metadata": {},
   "outputs": [],
   "source": [
    "import torch\n",
    "import torch.nn as nn"
   ]
  },
  {
   "attachments": {},
   "cell_type": "markdown",
   "metadata": {},
   "source": [
    "NeRF network class"
   ]
  },
  {
   "cell_type": "code",
   "execution_count": 13,
   "metadata": {},
   "outputs": [],
   "source": [
    "class NeRF(torch.nn.Module):\n",
    "    def __init__(self, positional_encoding_pos=10, positional_encoding_dir=4, hidden_dim=256):\n",
    "        super(NeRF, self).__init__()\n",
    "\n",
    "        self.positional_encoding_pos = positional_encoding_pos\n",
    "        self.positional_encoding_dir = positional_encoding_dir\n",
    "\n",
    "        self.block1 = torch.nn.Sequential(\n",
    "            nn.Linear(in_features=positional_encoding_pos * 6,out_features=hidden_dim),\n",
    "            nn.ReLU(),\n",
    "            nn.Linear(in_features=hidden_dim,out_features=hidden_dim),\n",
    "            nn.ReLU(),\n",
    "            nn.Linear(in_features=hidden_dim,out_features=hidden_dim),\n",
    "            nn.ReLU(),\n",
    "            nn.Linear(in_features=hidden_dim,out_features=hidden_dim),\n",
    "            nn.ReLU(),\n",
    "            nn.Linear(in_features=hidden_dim,out_features=hidden_dim),\n",
    "            nn.ReLU()\n",
    "        )\n",
    "\n",
    "        self.block2 = torch.nn.Sequential(\n",
    "            nn.Linear(in_features=hidden_dim + positional_encoding_pos * 6,out_features=hidden_dim),\n",
    "            nn.ReLU(),\n",
    "            nn.Linear(in_features=hidden_dim,out_features=hidden_dim),\n",
    "            nn.ReLU(),\n",
    "            nn.Linear(in_features=hidden_dim,out_features=hidden_dim),\n",
    "            nn.ReLU(),\n",
    "            nn.Linear(in_features=hidden_dim,out_features=hidden_dim + 1)\n",
    "        )\n",
    "\n",
    "        self.block3 = torch.nn.Sequential(\n",
    "            nn.Linear(in_features=hidden_dim + positional_encoding_dir * 6,out_features=128),\n",
    "            nn.ReLU(),\n",
    "            nn.Linear(in_features=128,out_features=3),\n",
    "            nn.Sigmoid()\n",
    "        )\n",
    "\n",
    "        self.relu = nn.ReLU()\n",
    "\n",
    "    def positional_encoding(self, x, L):\n",
    "        out = []\n",
    "        for i in range(L):\n",
    "            out.append(torch.sin(2 ** i * torch.pi * x))\n",
    "            out.append(torch.cos(2 ** i * torch.pi * x))\n",
    "        return torch.cat(out, dim=-1)\n",
    "\n",
    "    def forward(self, pos, dir):\n",
    "        pos_enc_pos = self.positional_encoding(pos, self.positional_encoding_pos)\n",
    "        pos_enc_dir = self.positional_encoding(dir, self.positional_encoding_dir)\n",
    "        x = self.block1(pos_enc_pos)\n",
    "        x = self.block2(torch.cat((x, pos_enc_pos), dim=-1))\n",
    "        sigma = self.relu(x[:, -1])\n",
    "        c = self.block3(torch.cat((x[:, :-1], pos_enc_dir), dim=-1))\n",
    "        return c, sigma"
   ]
  },
  {
   "attachments": {},
   "cell_type": "markdown",
   "metadata": {},
   "source": [
    "Forward checking"
   ]
  },
  {
   "cell_type": "code",
   "execution_count": 15,
   "metadata": {},
   "outputs": [
    {
     "name": "stdout",
     "output_type": "stream",
     "text": [
      "torch.Size([64, 3])\n",
      "torch.Size([64])\n"
     ]
    }
   ],
   "source": [
    "x = torch.rand((64, 3))\n",
    "d = torch.rand((64, 3))\n",
    "net = NeRF()\n",
    "c, sigma = net(x, d)\n",
    "print(c.shape)\n",
    "print(sigma.shape)"
   ]
  }
 ],
 "metadata": {
  "kernelspec": {
   "display_name": "Python 3",
   "language": "python",
   "name": "python3"
  },
  "language_info": {
   "codemirror_mode": {
    "name": "ipython",
    "version": 3
   },
   "file_extension": ".py",
   "mimetype": "text/x-python",
   "name": "python",
   "nbconvert_exporter": "python",
   "pygments_lexer": "ipython3",
   "version": "3.10.11"
  },
  "orig_nbformat": 4
 },
 "nbformat": 4,
 "nbformat_minor": 2
}
