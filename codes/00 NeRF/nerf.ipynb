{
 "cells": [
  {
   "attachments": {},
   "cell_type": "markdown",
   "metadata": {},
   "source": [
    "import libraries"
   ]
  },
  {
   "cell_type": "code",
   "execution_count": 2,
   "metadata": {},
   "outputs": [],
   "source": [
    "import torch\n",
    "import torch.nn as nn"
   ]
  },
  {
   "attachments": {},
   "cell_type": "markdown",
   "metadata": {},
   "source": [
    "NeRF network class"
   ]
  },
  {
   "cell_type": "code",
   "execution_count": 3,
   "metadata": {},
   "outputs": [],
   "source": [
    "class NeRF(torch.nn.Module):\n",
    "    def __init__(self, positional_encoding_pos=10, positional_encoding_dir=4, hidden_dim=256):\n",
    "        super(NeRF, self).__init__()\n",
    "\n",
    "        self.positional_encoding_pos = positional_encoding_pos\n",
    "        self.positional_encoding_dir = positional_encoding_dir\n",
    "\n",
    "        self.block1 = torch.nn.Sequential(\n",
    "            nn.Linear(in_features=positional_encoding_pos * 6,out_features=hidden_dim),\n",
    "            nn.ReLU(),\n",
    "            nn.Linear(in_features=hidden_dim,out_features=hidden_dim),\n",
    "            nn.ReLU(),\n",
    "            nn.Linear(in_features=hidden_dim,out_features=hidden_dim),\n",
    "            nn.ReLU(),\n",
    "            nn.Linear(in_features=hidden_dim,out_features=hidden_dim),\n",
    "            nn.ReLU(),\n",
    "            nn.Linear(in_features=hidden_dim,out_features=hidden_dim),\n",
    "            nn.ReLU()\n",
    "        )\n",
    "\n",
    "        self.block2 = torch.nn.Sequential(\n",
    "            nn.Linear(in_features=hidden_dim + positional_encoding_pos * 6,out_features=hidden_dim),\n",
    "            nn.ReLU(),\n",
    "            nn.Linear(in_features=hidden_dim,out_features=hidden_dim),\n",
    "            nn.ReLU(),\n",
    "            nn.Linear(in_features=hidden_dim,out_features=hidden_dim),\n",
    "            nn.ReLU(),\n",
    "            nn.Linear(in_features=hidden_dim,out_features=hidden_dim + 1)\n",
    "        )\n",
    "\n",
    "        self.block3 = torch.nn.Sequential(\n",
    "            nn.Linear(in_features=hidden_dim + positional_encoding_dir * 6,out_features=128),\n",
    "            nn.ReLU(),\n",
    "            nn.Linear(in_features=128,out_features=3),\n",
    "            nn.Sigmoid()\n",
    "        )\n",
    "\n",
    "        self.relu = nn.ReLU()\n",
    "\n",
    "    def positional_encoding(self, x, L):\n",
    "        out = []\n",
    "        for i in range(L):\n",
    "            out.append(torch.sin(2 ** i * torch.pi * x))\n",
    "            out.append(torch.cos(2 ** i * torch.pi * x))\n",
    "        return torch.cat(out, dim=-1)\n",
    "\n",
    "    def forward(self, pos, dir):\n",
    "        pos_enc_pos = self.positional_encoding(pos, self.positional_encoding_pos)\n",
    "        pos_enc_dir = self.positional_encoding(dir, self.positional_encoding_dir)\n",
    "        x = self.block1(pos_enc_pos)\n",
    "        x = self.block2(torch.cat((x, pos_enc_pos), dim=-1))\n",
    "        sigma = self.relu(x[:, -1])\n",
    "        c = self.block3(torch.cat((x[:, :-1], pos_enc_dir), dim=-1))\n",
    "        return c, sigma"
   ]
  },
  {
   "attachments": {},
   "cell_type": "markdown",
   "metadata": {},
   "source": [
    "Forward checking"
   ]
  },
  {
   "cell_type": "code",
   "execution_count": 4,
   "metadata": {},
   "outputs": [
    {
     "name": "stdout",
     "output_type": "stream",
     "text": [
      "torch.Size([64, 3])\n",
      "torch.Size([64])\n"
     ]
    }
   ],
   "source": [
    "x = torch.rand((64, 3))\n",
    "d = torch.rand((64, 3))\n",
    "net = NeRF()\n",
    "c, sigma = net(x, d)\n",
    "print(c.shape)\n",
    "print(sigma.shape)"
   ]
  },
  {
   "cell_type": "markdown",
   "metadata": {},
   "source": [
    "Cumulative Transmittance"
   ]
  },
  {
   "cell_type": "code",
   "execution_count": 8,
   "metadata": {},
   "outputs": [],
   "source": [
    "def calculate_T(sigdel):\n",
    "    T = torch.cumprod(sigdel, dim=1)\n",
    "    T = torch.concat((torch.ones((T.shape[0], 1)).to(T.device), T[:, :-1]), dim=1)\n",
    "    return T"
   ]
  },
  {
   "cell_type": "code",
   "execution_count": 12,
   "metadata": {},
   "outputs": [],
   "source": [
    "T = calculate_T(torch.rand((2, 5)))"
   ]
  },
  {
   "cell_type": "code",
   "execution_count": 11,
   "metadata": {},
   "outputs": [],
   "source": [
    "def calculate_C(T, alphas, colors):\n",
    "    weights = T * alphas\n",
    "    weights = weights.unsqueeze(2)\n",
    "    C = (weights * colors).sum(1)\n",
    "    return C"
   ]
  },
  {
   "cell_type": "code",
   "execution_count": 14,
   "metadata": {},
   "outputs": [],
   "source": [
    "C = calculate_C(\n",
    "    T,\n",
    "    torch.rand((2, 5)),\n",
    "    torch.rand((2, 5, 3))\n",
    ")"
   ]
  },
  {
   "cell_type": "code",
   "execution_count": 15,
   "metadata": {},
   "outputs": [
    {
     "data": {
      "text/plain": [
       "tensor([[0.9653, 0.6755, 1.0447],\n",
       "        [0.5151, 0.3976, 0.7528]])"
      ]
     },
     "execution_count": 15,
     "metadata": {},
     "output_type": "execute_result"
    }
   ],
   "source": [
    "C"
   ]
  },
  {
   "cell_type": "code",
   "execution_count": 31,
   "metadata": {},
   "outputs": [],
   "source": [
    "def create_t_samples(hn, hf, n_bins, n_rays, device):\n",
    "    t = torch.linspace(hn, hf, n_bins+1, device=device).expand(n_rays, n_bins+1)\n",
    "    u = torch.rand(t.shape)\n",
    "    t = t + (u * ((hf-hn) / n_bins))\n",
    "    return t[:, :-1]\n"
   ]
  },
  {
   "cell_type": "code",
   "execution_count": 32,
   "metadata": {},
   "outputs": [
    {
     "data": {
      "text/plain": [
       "tensor([[0.0306, 0.0689, 0.1096, 0.1600, 0.2407, 0.2562, 0.3108, 0.3849, 0.4138,\n",
       "         0.4718],\n",
       "        [0.0103, 0.0802, 0.1071, 0.1927, 0.2112, 0.2782, 0.3496, 0.3914, 0.4244,\n",
       "         0.4724],\n",
       "        [0.0349, 0.0564, 0.1247, 0.1633, 0.2183, 0.2981, 0.3358, 0.3936, 0.4411,\n",
       "         0.4550],\n",
       "        [0.0469, 0.0642, 0.1196, 0.1875, 0.2226, 0.2639, 0.3171, 0.3715, 0.4320,\n",
       "         0.4860]])"
      ]
     },
     "execution_count": 32,
     "metadata": {},
     "output_type": "execute_result"
    }
   ],
   "source": [
    "create_t_samples(0.0, 0.5, 10, 4, T.device)"
   ]
  },
  {
   "cell_type": "code",
   "execution_count": null,
   "metadata": {},
   "outputs": [],
   "source": [
    "def create_ray_points(ray_origins, ray_directions, t):\n",
    "    x = ray_origins + t * ray_directions\n",
    "    return x"
   ]
  }
 ],
 "metadata": {
  "kernelspec": {
   "display_name": "Python 3",
   "language": "python",
   "name": "python3"
  },
  "language_info": {
   "codemirror_mode": {
    "name": "ipython",
    "version": 3
   },
   "file_extension": ".py",
   "mimetype": "text/x-python",
   "name": "python",
   "nbconvert_exporter": "python",
   "pygments_lexer": "ipython3",
   "version": "3.10.11"
  },
  "orig_nbformat": 4
 },
 "nbformat": 4,
 "nbformat_minor": 2
}
